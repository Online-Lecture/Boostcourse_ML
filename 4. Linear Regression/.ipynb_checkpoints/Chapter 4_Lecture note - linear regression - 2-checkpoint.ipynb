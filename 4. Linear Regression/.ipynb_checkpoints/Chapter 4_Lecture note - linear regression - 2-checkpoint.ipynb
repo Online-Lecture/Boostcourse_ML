{
 "cells": [
  {
   "cell_type": "markdown",
   "metadata": {},
   "source": [
    "## Linear Regression\n",
    "※ Coursera 강의에서 구체적으로 정리하므로 간단하게 필기하는 것으로 넘어갈 것!"
   ]
  },
  {
   "cell_type": "markdown",
   "metadata": {},
   "source": [
    "### Mean Absolute Error: 잔차의 절대값의 sum"
   ]
  },
  {
   "cell_type": "code",
   "execution_count": 5,
   "metadata": {},
   "outputs": [],
   "source": [
    "from sklearn.metrics import median_absolute_error\n",
    "from sklearn.metrics import mean_squared_error"
   ]
  },
  {
   "cell_type": "code",
   "execution_count": 2,
   "metadata": {},
   "outputs": [
    {
     "data": {
      "text/plain": [
       "0.5"
      ]
     },
     "execution_count": 2,
     "metadata": {},
     "output_type": "execute_result"
    }
   ],
   "source": [
    "y_true = [3, -0.5, 2, 7]\n",
    "y_pred = [2.5, 0.0, 2, 8]\n",
    "\n",
    "median_absolute_error(y_true, y_pred)"
   ]
  },
  {
   "cell_type": "markdown",
   "metadata": {},
   "source": [
    "### Root Mean Squared Error"
   ]
  },
  {
   "cell_type": "code",
   "execution_count": 4,
   "metadata": {},
   "outputs": [
    {
     "data": {
      "text/plain": [
       "0.375"
      ]
     },
     "execution_count": 4,
     "metadata": {},
     "output_type": "execute_result"
    }
   ],
   "source": [
    "y_true = [3, -0.5, 2, 7]\n",
    "y_pred = [2.5, 0.0, 2, 8]\n",
    "\n",
    "mean_squared_error(y_true, y_pred)"
   ]
  },
  {
   "cell_type": "markdown",
   "metadata": {},
   "source": [
    "### Boston Housing example"
   ]
  },
  {
   "cell_type": "code",
   "execution_count": 47,
   "metadata": {},
   "outputs": [],
   "source": [
    "from sklearn.datasets import load_boston\n",
    "from sklearn import preprocessing\n",
    "from sklearn import linear_model\n",
    "from sklearn.model_selection import train_test_split\n",
    "from sklearn.metrics import mean_squared_error\n",
    "import matplotlib.pyplot as plt\n",
    "import numpy as np"
   ]
  },
  {
   "cell_type": "code",
   "execution_count": 48,
   "metadata": {},
   "outputs": [],
   "source": [
    "boston = load_boston()"
   ]
  },
  {
   "cell_type": "code",
   "execution_count": 49,
   "metadata": {},
   "outputs": [],
   "source": [
    "x_data = boston.data\n",
    "y_data = boston.target.reshape(boston.target.size, 1)"
   ]
  },
  {
   "cell_type": "code",
   "execution_count": 50,
   "metadata": {},
   "outputs": [],
   "source": [
    "minmax_scale = preprocessing.MinMaxScaler().fit(x_data)\n",
    "x_scaled_data = minmax_scale.transform(x_data)"
   ]
  },
  {
   "cell_type": "code",
   "execution_count": 51,
   "metadata": {},
   "outputs": [
    {
     "data": {
      "text/plain": [
       "LinearRegression(n_jobs=8)"
      ]
     },
     "execution_count": 51,
     "metadata": {},
     "output_type": "execute_result"
    }
   ],
   "source": [
    "regr = linear_model.LinearRegression(fit_intercept=True,\n",
    "                                    normalize = False,\n",
    "                                    copy_X = True,\n",
    "                                    n_jobs=8)\n",
    "regr.fit(x_scaled_data, y_data)\n",
    "regr"
   ]
  },
  {
   "cell_type": "code",
   "execution_count": 52,
   "metadata": {},
   "outputs": [
    {
     "data": {
      "text/plain": [
       "(array([[ -9.60975755,   4.64204584,   0.56083933,   2.68673382,\n",
       "          -8.63457306,  19.88368651,   0.06721501, -16.22666104,\n",
       "           7.03913802,  -6.46332721,  -8.95582398,   3.69282735,\n",
       "         -19.01724361]]),\n",
       " array([26.62026758]))"
      ]
     },
     "execution_count": 52,
     "metadata": {},
     "output_type": "execute_result"
    }
   ],
   "source": [
    "regr.coef_, regr.intercept_"
   ]
  },
  {
   "cell_type": "code",
   "execution_count": 53,
   "metadata": {
    "scrolled": true
   },
   "outputs": [
    {
     "data": {
      "text/plain": [
       "array([[ -496.63540908],\n",
       "       [ -338.94469457],\n",
       "       [ -242.80148556],\n",
       "       [ -112.39295726],\n",
       "       [ -146.28666192],\n",
       "       [ -167.8480859 ],\n",
       "       [ -769.05385608],\n",
       "       [ -893.75386766],\n",
       "       [-1149.95632991],\n",
       "       [ -907.08045989]])"
      ]
     },
     "execution_count": 53,
     "metadata": {},
     "output_type": "execute_result"
    }
   ],
   "source": [
    "regr.predict(x_data[:10])"
   ]
  },
  {
   "cell_type": "code",
   "execution_count": 54,
   "metadata": {},
   "outputs": [],
   "source": [
    "X_train, X_test, y_train, y_test = train_test_split(x_scaled_data, \n",
    "                                                    y_data, \n",
    "                                                    test_size=0.3) "
   ]
  },
  {
   "cell_type": "code",
   "execution_count": 55,
   "metadata": {},
   "outputs": [
    {
     "data": {
      "text/plain": [
       "array([[19.85268454],\n",
       "       [22.16853423],\n",
       "       [27.40208414],\n",
       "       [17.8725804 ],\n",
       "       [17.61572573],\n",
       "       [ 9.58376737],\n",
       "       [15.83331301],\n",
       "       [30.67461827],\n",
       "       [25.04215821],\n",
       "       [24.72744978]])"
      ]
     },
     "execution_count": 55,
     "metadata": {},
     "output_type": "execute_result"
    }
   ],
   "source": [
    "regr.predict(X_test[:10])"
   ]
  },
  {
   "cell_type": "code",
   "execution_count": 56,
   "metadata": {},
   "outputs": [
    {
     "data": {
      "text/plain": [
       "15.928786657283018"
      ]
     },
     "execution_count": 56,
     "metadata": {},
     "output_type": "execute_result"
    }
   ],
   "source": [
    "y_true = y_test\n",
    "y_pred = regr.predict(X_test)\n",
    "np.sqrt(((y_true - y_pred) ** 2).sum()/len(y_true))\n",
    "mean_squared_error(y_true, y_pred)"
   ]
  },
  {
   "cell_type": "markdown",
   "metadata": {},
   "source": [
    "## Stochastic Gradient Descent\n",
    "- Full-batch gradient descent?  \n",
    "안정적 cost function but 메모리 문제, 대규모 dataset = 느린 업데이트\n",
    "- dataset에서 random하게 training sample 뽑은 후 학습 → data 넣기 전 shuffle\n",
    "- 업데이트 속도 개선 but cost가 더 이상 줄어들지 않을 때 어려움"
   ]
  },
  {
   "cell_type": "markdown",
   "metadata": {},
   "source": [
    "### Mini batch SGD\n",
    "- 한 번의 일정량의 데이터를 랜덤하게 뽐아서 학습\n",
    "- SGD + Batch SGD\n",
    "- 가장 일반적으로 많이 쓰이는 기법"
   ]
  },
  {
   "cell_type": "markdown",
   "metadata": {},
   "source": [
    "### Epoch & Batch-size\n",
    "- epoch: 전체 데이터가 training에 들어가는 횟수\n",
    "- Full-batch n번 실행 = n epoch\n",
    "- Batch-size: 한번에 학습되는 데이터의 갯수 \n",
    "- n(batch) = len(data) / Batch-size"
   ]
  },
  {
   "cell_type": "markdown",
   "metadata": {},
   "source": [
    "## SGD Implementation issue\n",
    "※ PPT 참고할 것\n",
    "- iteration issue, learning-rate decay"
   ]
  },
  {
   "cell_type": "markdown",
   "metadata": {},
   "source": [
    "## Overfitting and Regulation\n",
    "\n",
    "### Overfitting\n",
    "- 학습데이터 과다 최적화 → 해로운 데이터의 예측 ↓\n",
    "- Bias - Variance:  \n",
    "▶ High bias: 잘못된 데이터만 계속 학습 → 잘못된 weight만 update  \n",
    "▶ High variance: Error을 고려하지 않음 → 모든 weight가 update  "
   ]
  }
 ],
 "metadata": {
  "kernelspec": {
   "display_name": "Python 3",
   "language": "python",
   "name": "python3"
  },
  "language_info": {
   "codemirror_mode": {
    "name": "ipython",
    "version": 3
   },
   "file_extension": ".py",
   "mimetype": "text/x-python",
   "name": "python",
   "nbconvert_exporter": "python",
   "pygments_lexer": "ipython3",
   "version": "3.7.7"
  }
 },
 "nbformat": 4,
 "nbformat_minor": 4
}
