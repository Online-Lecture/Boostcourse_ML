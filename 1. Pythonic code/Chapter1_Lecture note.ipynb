{
 "cells": [
  {
   "cell_type": "markdown",
   "metadata": {},
   "source": [
    "# Pythonic Code\n",
    "### 여러 단어들을 하나로 붙일 때"
   ]
  },
  {
   "cell_type": "code",
   "execution_count": 3,
   "metadata": {},
   "outputs": [
    {
     "name": "stdout",
     "output_type": "stream",
     "text": [
      "redbluegreenyellow\n"
     ]
    }
   ],
   "source": [
    "colors = ['red', 'blue', 'green','yellow']\n",
    "result = \"\"\n",
    "for s in colors:\n",
    "    result += s\n",
    "print(result)"
   ]
  },
  {
   "cell_type": "code",
   "execution_count": 4,
   "metadata": {},
   "outputs": [
    {
     "name": "stdout",
     "output_type": "stream",
     "text": [
      "redbluegreenyellow\n"
     ]
    }
   ],
   "source": [
    "colors = ['red', 'blue', 'green','yellow']\n",
    "result = \"\".join(colors)\n",
    "print(result)"
   ]
  },
  {
   "cell_type": "markdown",
   "metadata": {},
   "source": [
    "## Split 함수\n",
    "- String type의 값을 나눠서 list 형태로 변환"
   ]
  },
  {
   "cell_type": "code",
   "execution_count": 5,
   "metadata": {},
   "outputs": [
    {
     "name": "stdout",
     "output_type": "stream",
     "text": [
      "['zero', 'one', 'two', 'three']\n"
     ]
    }
   ],
   "source": [
    "items = 'zero one two three'.split()\n",
    "print(items)"
   ]
  },
  {
   "cell_type": "code",
   "execution_count": 6,
   "metadata": {},
   "outputs": [
    {
     "data": {
      "text/plain": [
       "['python', 'jquery', 'javascript']"
      ]
     },
     "execution_count": 6,
     "metadata": {},
     "output_type": "execute_result"
    }
   ],
   "source": [
    "example = 'python,jquery,javascript'\n",
    "example.split(\",\")"
   ]
  },
  {
   "cell_type": "code",
   "execution_count": 9,
   "metadata": {},
   "outputs": [],
   "source": [
    "a,b,c = example.split(\",\") #a,b,c 변수로 unpacking"
   ]
  },
  {
   "cell_type": "code",
   "execution_count": 10,
   "metadata": {},
   "outputs": [],
   "source": [
    "example = 'cs50.gachon.edu'\n",
    "subdomain, domain, tld = example.split(\".\")"
   ]
  },
  {
   "cell_type": "markdown",
   "metadata": {},
   "source": [
    "## Join 함수\n",
    "- String list를 합쳐 하나의 String으로 반환할 때 사용"
   ]
  },
  {
   "cell_type": "code",
   "execution_count": 11,
   "metadata": {},
   "outputs": [
    {
     "data": {
      "text/plain": [
       "'redbluegreenyellow'"
      ]
     },
     "execution_count": 11,
     "metadata": {},
     "output_type": "execute_result"
    }
   ],
   "source": [
    "colors = ['red', 'blue', 'green', 'yellow']\n",
    "result = \"\".join(colors)\n",
    "result"
   ]
  },
  {
   "cell_type": "code",
   "execution_count": 12,
   "metadata": {},
   "outputs": [
    {
     "data": {
      "text/plain": [
       "'red blue green yellow'"
      ]
     },
     "execution_count": 12,
     "metadata": {},
     "output_type": "execute_result"
    }
   ],
   "source": [
    "result = \" \".join(colors)\n",
    "result"
   ]
  },
  {
   "cell_type": "code",
   "execution_count": 13,
   "metadata": {},
   "outputs": [
    {
     "data": {
      "text/plain": [
       "'red, blue, green, yellow'"
      ]
     },
     "execution_count": 13,
     "metadata": {},
     "output_type": "execute_result"
    }
   ],
   "source": [
    "result = \", \".join(colors)\n",
    "result"
   ]
  },
  {
   "cell_type": "markdown",
   "metadata": {},
   "source": [
    "## List comprehensions\n",
    "- 간단하고 for append보다 더 빠른 list 만들기\n"
   ]
  },
  {
   "cell_type": "code",
   "execution_count": 14,
   "metadata": {},
   "outputs": [
    {
     "data": {
      "text/plain": [
       "[0, 1, 2, 3, 4, 5, 6, 7, 8, 9]"
      ]
     },
     "execution_count": 14,
     "metadata": {},
     "output_type": "execute_result"
    }
   ],
   "source": [
    "result = [i for i in range(10)]\n",
    "result"
   ]
  },
  {
   "cell_type": "code",
   "execution_count": 15,
   "metadata": {},
   "outputs": [
    {
     "data": {
      "text/plain": [
       "[0, 2, 4, 6, 8]"
      ]
     },
     "execution_count": 15,
     "metadata": {},
     "output_type": "execute_result"
    }
   ],
   "source": [
    "result = [i for i in range(10) if i % 2 == 0]\n",
    "result"
   ]
  },
  {
   "cell_type": "code",
   "execution_count": 18,
   "metadata": {},
   "outputs": [
    {
     "name": "stdout",
     "output_type": "stream",
     "text": [
      "['HW', 'Ho', 'Hr', 'Hl', 'Hd', 'eW', 'eo', 'er', 'el', 'ed', 'lW', 'lo', 'lr', 'll', 'ld', 'lW', 'lo', 'lr', 'll', 'ld', 'oW', 'oo', 'or', 'ol', 'od']\n"
     ]
    }
   ],
   "source": [
    "word_1 = \"Hello\"\n",
    "word_2 = \"World\"\n",
    "result = [i+j for i in word_1 for j in word_2]\n",
    "print(result)"
   ]
  },
  {
   "cell_type": "code",
   "execution_count": 22,
   "metadata": {},
   "outputs": [
    {
     "name": "stdout",
     "output_type": "stream",
     "text": [
      "['AD', 'AE', 'BD', 'BE', 'BA', 'CD', 'CE', 'CA']\n"
     ]
    }
   ],
   "source": [
    "case_1 = [\"A\",\"B\",\"C\"]\n",
    "case_2 = [\"D\",\"E\",\"A\"]\n",
    "result = [i+j for i in case_1 for j in case_2 if not (i==j)]\n",
    "#Filter: i와 j가 같다면 list에 추가하지 않음\n",
    "print(result)"
   ]
  },
  {
   "cell_type": "code",
   "execution_count": 23,
   "metadata": {},
   "outputs": [
    {
     "name": "stdout",
     "output_type": "stream",
     "text": [
      "['The', 'quick', 'brown', 'fox', 'jumps', 'over', 'the', 'lazy', 'dog']\n"
     ]
    }
   ],
   "source": [
    "words = \"The quick brown fox jumps over the lazy dog\".split()\n",
    "print(words)"
   ]
  },
  {
   "cell_type": "code",
   "execution_count": 28,
   "metadata": {},
   "outputs": [
    {
     "name": "stdout",
     "output_type": "stream",
     "text": [
      "['THE', 'the', 3]\n",
      "['QUICK', 'quick', 5]\n",
      "['BROWN', 'brown', 5]\n",
      "['FOX', 'fox', 3]\n",
      "['JUMPS', 'jumps', 5]\n",
      "['OVER', 'over', 4]\n",
      "['THE', 'the', 3]\n",
      "['LAZY', 'lazy', 4]\n",
      "['DOG', 'dog', 3]\n"
     ]
    }
   ],
   "source": [
    "stuff = [[w.upper(), w.lower(),len(w)] for w in words]\n",
    "for i in stuff:\n",
    "    print(i)"
   ]
  },
  {
   "cell_type": "markdown",
   "metadata": {},
   "source": [
    "## Enumerate\n",
    "- list의 element를 추출할 때 번호를 붙여서 추출"
   ]
  },
  {
   "cell_type": "code",
   "execution_count": 26,
   "metadata": {},
   "outputs": [
    {
     "name": "stdout",
     "output_type": "stream",
     "text": [
      "0 tic\n",
      "1 tac\n",
      "2 toe\n"
     ]
    }
   ],
   "source": [
    "for i,v in enumerate(['tic','tac','toe']):\n",
    "    print(i,v) #list에 있는 index 값을 unpacking"
   ]
  },
  {
   "cell_type": "code",
   "execution_count": 27,
   "metadata": {},
   "outputs": [
    {
     "data": {
      "text/plain": [
       "{0: 'Gacheon',\n",
       " 1: 'University',\n",
       " 2: 'is',\n",
       " 3: 'an',\n",
       " 4: 'academic',\n",
       " 5: 'institute',\n",
       " 6: 'located',\n",
       " 7: 'in',\n",
       " 8: 'South',\n",
       " 9: 'Korea'}"
      ]
     },
     "execution_count": 27,
     "metadata": {},
     "output_type": "execute_result"
    }
   ],
   "source": [
    "{i:j for i,j in enumerate('Gacheon University is an academic institute located in South Korea'.split())}"
   ]
  },
  {
   "cell_type": "markdown",
   "metadata": {},
   "source": [
    "## Zip\n",
    "- 두 개의 list의 값을 병렬적으로 추출"
   ]
  },
  {
   "cell_type": "code",
   "execution_count": 29,
   "metadata": {},
   "outputs": [
    {
     "name": "stdout",
     "output_type": "stream",
     "text": [
      "a1 b1\n",
      "a2 b2\n",
      "a3 b3\n"
     ]
    }
   ],
   "source": [
    "alist = ['a1','a2','a3']\n",
    "blist = ['b1','b2','b3']\n",
    "for a, b in zip(alist, blist):\n",
    "    print(a,b)"
   ]
  },
  {
   "cell_type": "code",
   "execution_count": 31,
   "metadata": {},
   "outputs": [
    {
     "name": "stdout",
     "output_type": "stream",
     "text": [
      "(1, 10, 100) (2, 20, 200) (3, 30, 300)\n"
     ]
    }
   ],
   "source": [
    "a,b,c = zip((1,2,3),(10,20,30),(100,200,300)) #각 tuple의 같은 index끼리\n",
    "print(a,b,c)"
   ]
  },
  {
   "cell_type": "code",
   "execution_count": 32,
   "metadata": {},
   "outputs": [
    {
     "data": {
      "text/plain": [
       "[111, 222, 333]"
      ]
     },
     "execution_count": 32,
     "metadata": {},
     "output_type": "execute_result"
    }
   ],
   "source": [
    "[sum(x) for x in zip((1,2,3),(10,20,30),(100,200,300))]"
   ]
  },
  {
   "cell_type": "markdown",
   "metadata": {},
   "source": [
    "## Lambda\n",
    "- 함수 이름 없이, 함수처럼 쓸 수 잇는 익명 함수\n",
    "- 수학의 람다 대수에서 유래"
   ]
  },
  {
   "cell_type": "code",
   "execution_count": 34,
   "metadata": {},
   "outputs": [
    {
     "name": "stdout",
     "output_type": "stream",
     "text": [
      "5\n",
      "5\n",
      "9\n",
      "1.5\n",
      "6\n"
     ]
    }
   ],
   "source": [
    "def f(x, y):\n",
    "    return x + y\n",
    "print(f(1, 4))\n",
    "\n",
    "f = lambda x, y: x + y\n",
    "print(f(1, 4))\n",
    "\n",
    "f = lambda x: x ** 2\n",
    "print(f(3))\n",
    "\n",
    "f = lambda x: x / 2\n",
    "print(f(3))\n",
    "\n",
    "print((lambda x: x + 1)(5))"
   ]
  },
  {
   "cell_type": "markdown",
   "metadata": {},
   "source": [
    "## Map function\n",
    "- Sequence 자료형 각 element에 동일한 function을 적용함\n",
    "- python3에서 사용을 권장하지 않음"
   ]
  },
  {
   "cell_type": "code",
   "execution_count": 35,
   "metadata": {},
   "outputs": [
    {
     "name": "stdout",
     "output_type": "stream",
     "text": [
      "[1, 4, 9, 16, 25]\n"
     ]
    }
   ],
   "source": [
    "ex = [1, 2, 3, 4, 5]\n",
    "f = lambda x: x ** 2\n",
    "print(list(map(f, ex)))\n",
    "#or\n",
    "[value ** 2 for value in range(1,5)]"
   ]
  },
  {
   "cell_type": "code",
   "execution_count": 37,
   "metadata": {},
   "outputs": [
    {
     "name": "stdout",
     "output_type": "stream",
     "text": [
      "[2, 4, 6, 8, 10]\n"
     ]
    }
   ],
   "source": [
    "ex = [1, 2, 3, 4, 5]\n",
    "f = lambda x, y: x + y\n",
    "print(list(map(f, ex, ex)))"
   ]
  },
  {
   "cell_type": "code",
   "execution_count": 38,
   "metadata": {},
   "outputs": [
    {
     "data": {
      "text/plain": [
       "[1, 4, 3, 16, 5]"
      ]
     },
     "execution_count": 38,
     "metadata": {},
     "output_type": "execute_result"
    }
   ],
   "source": [
    "list(map(lambda x: x ** 2 if x % 2 == 0 else x,ex))"
   ]
  },
  {
   "cell_type": "code",
   "execution_count": 39,
   "metadata": {},
   "outputs": [
    {
     "name": "stdout",
     "output_type": "stream",
     "text": [
      "[2, 4, 6, 8, 10]\n",
      "<map object at 0x00000221A6CE1848>\n"
     ]
    }
   ],
   "source": [
    "#python 3에는 list를 꼭 붙여줘야함\n",
    "ex = [1,2,3,4,5]\n",
    "print(list(map(lambda x: x+x, ex)))\n",
    "print((map(lambda x: x+x, ex)))"
   ]
  },
  {
   "cell_type": "code",
   "execution_count": 42,
   "metadata": {},
   "outputs": [
    {
     "name": "stdout",
     "output_type": "stream",
     "text": [
      "[1, 4, 9, 16, 25]\n",
      "1\n",
      "4\n",
      "9\n",
      "16\n",
      "25\n"
     ]
    }
   ],
   "source": [
    "f = lambda x: x ** 2\n",
    "print(list(map(f, ex)))\n",
    "for i in map(f, ex):\n",
    "    print(i)"
   ]
  },
  {
   "cell_type": "markdown",
   "metadata": {},
   "source": [
    "## Reduce function\n",
    "- map function과 달리 list에 똑같은 함수를 적용해서 통합\n",
    "- python3에서 사용을 권장하지 않음"
   ]
  },
  {
   "cell_type": "code",
   "execution_count": 46,
   "metadata": {},
   "outputs": [
    {
     "name": "stdout",
     "output_type": "stream",
     "text": [
      "15\n"
     ]
    },
    {
     "data": {
      "text/plain": [
       "120"
      ]
     },
     "execution_count": 46,
     "metadata": {},
     "output_type": "execute_result"
    }
   ],
   "source": [
    "import sys\n",
    "sys.getsizeof(ex)\n",
    "sys.getsizeof((map(lambda x: x+x, ex)))\n",
    "sys.getsizeof(list(map(lambda x: x+x, ex)))\n",
    "\n",
    "# Reduce\n",
    "from functools import reduce\n",
    "print(reduce(lambda x, y: x+y, [1, 2, 3, 4, 5]))\n",
    "\n",
    "def factorial(n):\n",
    "    return reduce(lambda x, y: x*y, range(1, n+1))\n",
    "\n",
    "factorial(5)"
   ]
  },
  {
   "cell_type": "markdown",
   "metadata": {},
   "source": [
    "## Asterisk\n",
    "- 흔히 알고 있는 *을 의미\n",
    "- 단순 곱셈, 제곰 연산, 가변 인자 활용 등 다양하게 사용됨"
   ]
  },
  {
   "cell_type": "code",
   "execution_count": 47,
   "metadata": {},
   "outputs": [
    {
     "name": "stdout",
     "output_type": "stream",
     "text": [
      "1 (2, 3, 4, 5, 6)\n",
      "<class 'tuple'>\n"
     ]
    }
   ],
   "source": [
    "def asterisk_test(a, *args):\n",
    "    print(a, args)\n",
    "    print(type(args))\n",
    "\n",
    "asterisk_test(1,2,3,4,5,6)"
   ]
  },
  {
   "cell_type": "code",
   "execution_count": 48,
   "metadata": {},
   "outputs": [
    {
     "name": "stdout",
     "output_type": "stream",
     "text": [
      "1 {'b': 2, 'c': 3, 'd': 4, 'e': 5, 'f': 6}\n",
      "<class 'dict'>\n"
     ]
    }
   ],
   "source": [
    "def asterisk_test(a, **kargs):\n",
    "    print(a, kargs)\n",
    "    print(type(kargs))\n",
    "\n",
    "asterisk_test(1, b=2, c=3, d=4, e=5, f=6)"
   ]
  },
  {
   "cell_type": "code",
   "execution_count": 49,
   "metadata": {},
   "outputs": [
    {
     "name": "stdout",
     "output_type": "stream",
     "text": [
      "1 (2, 3, 4, 5, 6)\n",
      "<class 'tuple'>\n"
     ]
    }
   ],
   "source": [
    "def asterisk_test(a, *args):\n",
    "    print(a, args[0])\n",
    "    print(type(args))\n",
    "\n",
    "asterisk_test(1, (2, 3, 4, 5, 6))"
   ]
  },
  {
   "cell_type": "code",
   "execution_count": 50,
   "metadata": {},
   "outputs": [
    {
     "name": "stdout",
     "output_type": "stream",
     "text": [
      "1 2 3 4 5 6\n",
      "<class 'tuple'>\n"
     ]
    }
   ],
   "source": [
    "def asterisk_test(a, args):\n",
    "    print(a, *args)\n",
    "    print(type(args))\n",
    "\n",
    "asterisk_test(1, (2,3,4,5,6))"
   ]
  },
  {
   "cell_type": "code",
   "execution_count": 51,
   "metadata": {},
   "outputs": [
    {
     "name": "stdout",
     "output_type": "stream",
     "text": [
      "[1, 2] [3, 4] [5, 6]\n",
      "[1, 2] [3, 4] [5, 6]\n"
     ]
    }
   ],
   "source": [
    "a, b, c = ([1, 2], [3, 4], [5, 6])\n",
    "print(a, b, c)\n",
    "\n",
    "data = ([1, 2], [3, 4], [5, 6])\n",
    "print(*data)"
   ]
  },
  {
   "cell_type": "code",
   "execution_count": 56,
   "metadata": {},
   "outputs": [
    {
     "name": "stdout",
     "output_type": "stream",
     "text": [
      "9\n",
      "12\n",
      "10 3 2 1 56\n"
     ]
    }
   ],
   "source": [
    "for data in zip(*([1, 2], [3, 4], [5, 6])):\n",
    "    print(sum(data))\n",
    "\n",
    "def asterisk_test(a, b, c, d, e=0):\n",
    "    print(a, b, c, d, e)\n",
    "    \n",
    "data = {\"d\":1,\"c\":2, \"b\":3,\"e\":56}\n",
    "asterisk_test(10, **data)"
   ]
  },
  {
   "cell_type": "markdown",
   "metadata": {},
   "source": [
    "## Collections\n",
    "- list, tuple, dict에 대한 python built-in 확장 자료 구조(모듈)\n",
    "- 편의성, 실행 효율 등을 사용자에게 제공함\n",
    "- 아래의 모듈이 존재함\n",
    "\n",
    "### Deque\n",
    "- stack과 queue를 지원하는 모듈\n",
    "- list에 비해 효율적인 자료 저장 방식을 지원"
   ]
  },
  {
   "cell_type": "code",
   "execution_count": 58,
   "metadata": {},
   "outputs": [
    {
     "name": "stdout",
     "output_type": "stream",
     "text": [
      "deque([0, 1, 2, 3, 4])\n",
      "deque([10, 0, 1, 2, 3, 4])\n"
     ]
    }
   ],
   "source": [
    "from collections import deque\n",
    "\n",
    "deque_list = deque()\n",
    "for i in range(5):\n",
    "    deque_list.append(i)\n",
    "print(deque_list)\n",
    "\n",
    "deque_list.appendleft(10)\n",
    "print(deque_list)"
   ]
  },
  {
   "cell_type": "markdown",
   "metadata": {},
   "source": [
    "### Ordered Dict\n",
    "- Dict와 달리, 데이터를 입력한 순서대로 dict를 반환함"
   ]
  },
  {
   "cell_type": "code",
   "execution_count": 68,
   "metadata": {},
   "outputs": [
    {
     "name": "stdout",
     "output_type": "stream",
     "text": [
      "x 100 y 200 z 300 l 500 "
     ]
    }
   ],
   "source": [
    "from collections import OrderedDict\n",
    "\n",
    "d = {}\n",
    "d['x'] = 100\n",
    "d['y'] = 200\n",
    "d['z'] = 300\n",
    "d['l'] = 500\n",
    "\n",
    "for k, v in d.items():\n",
    "    print(k, v, end =\" \")"
   ]
  },
  {
   "cell_type": "code",
   "execution_count": 67,
   "metadata": {},
   "outputs": [
    {
     "name": "stdout",
     "output_type": "stream",
     "text": [
      "x 100 y 200 z 300 l 500 \n",
      "l 500 x 100 y 200 z 300 \n",
      "l 500 z 300 y 200 x 100 \n"
     ]
    }
   ],
   "source": [
    "d = OrderedDict()\n",
    "d['x'] = 100\n",
    "d['y'] = 200\n",
    "d['z'] = 300\n",
    "d['l'] = 500\n",
    "\n",
    "for k, v in d.items():\n",
    "    print(k, v, end =\" \")\n",
    "print()\n",
    "for k, v in OrderedDict(sorted(d.items(), key=lambda t: t[0])).items():\n",
    "    print(k, v, end = \" \")\n",
    "print()\n",
    "for k, v in OrderedDict(sorted(d.items(),\n",
    "                        reverse=True, key=lambda t: t[1])).items():\n",
    "    print(k, v, end =\" \")\n",
    "print()"
   ]
  },
  {
   "cell_type": "markdown",
   "metadata": {},
   "source": [
    "### Default dict\n",
    "- dict type의 값에 기본 값을 지정, 신규값 생성시 사용하는 방법"
   ]
  },
  {
   "cell_type": "code",
   "execution_count": 69,
   "metadata": {},
   "outputs": [
    {
     "name": "stdout",
     "output_type": "stream",
     "text": [
      "{'a': 11, 'press': 7, 'release': 7, 'is': 1, 'the': 8, 'quickest': 0, 'and': 8, 'easiest': 0, 'way': 1, 'to': 9, 'get': 0, 'free': 0, 'publicity.': 0, 'if': 1, 'well': 0, 'written,': 0, 'can': 1, 'result': 0, 'in': 2, 'multiple': 0, 'published': 0, 'articles': 0, 'about': 1, 'your': 3, 'firm': 2, 'its': 0, 'products.': 0, 'that': 6, 'mean': 0, 'new': 1, 'prospects': 1, 'contacting': 0, 'you': 2, 'asking': 0, 'sell': 0, 'them.': 0, 'talk': 0, 'low-hanging': 0, 'fruit!': 0, \"what's\": 0, 'more,': 0, 'releases': 2, 'are': 2, 'cost': 0, 'effective.': 0, 'results': 0, 'an': 1, 'article': 1, '(for': 0, 'instance)': 0, 'appears': 0, 'recommend': 0, 'or': 0, 'product,': 0, 'more': 1, 'likely': 0, 'drive': 0, 'contact': 0, 'than': 0, 'comparable': 0, 'paid': 0, 'advertisement.': 0, 'however,': 0, 'most': 1, 'never': 0, 'accomplish': 0, 'that.': 0, 'just': 0, 'spray': 0, 'pray.': 0, 'nobody': 0, 'reads': 0, 'them,': 0, 'least': 0, 'of': 4, 'all': 2, 'reporters': 0, 'editors': 0, 'for': 1, 'whom': 0, \"they're\": 0, 'intended.': 0, 'worst': 0, 'case,': 0, 'badly-written': 0, 'simply': 1, 'makes': 0, 'look': 0, 'clueless': 0, 'stupid.': 0, 'example,': 0, 'while': 0, 'back': 0, 'i': 2, 'received': 0, 'containing': 0, 'following': 0, 'sentence:': 0, '\"release': 0, '6.0': 1, 'doubles': 0, 'level': 0, 'functionality': 0, 'available,': 0, 'providing': 0, 'organizations': 0, 'sizes': 0, 'with': 0, 'fast-to-deploy,': 0, 'highly': 0, 'robust,': 0, 'easy-to-use': 0, 'solution': 0, 'better': 0, 'acquire,': 0, 'retain,': 0, 'serve': 0, 'customers.\"': 0, 'translation:': 0, '\"the': 0, 'does': 0, 'stuff.\"': 0, 'why': 0, 'extra': 0, 'verbiage?': 0, 'as': 1, 'explained': 0, 'post': 0, '\"why': 0, 'marketers': 0, 'speak': 0, 'biz': 0, 'blab\",': 0, 'bs': 0, 'words': 0, 'try': 0, 'make': 0, 'something': 0, 'unimportant': 0, 'seem': 0, 'important.': 1, 'and,': 0, \"let's\": 0, 'face': 0, 'it,': 0, 'product': 0, 'probably': 0, \"isn't\": 0, 'reporter,': 0, 'my': 0, 'immediate': 0, 'response': 0, 'was': 1, \"it's\": 0, 'not': 0, 'important': 0, 'because': 0, 'it': 0, 'expended': 0, 'entire': 0, 'sentence': 0, 'saying': 0, 'absolutely': 0, 'nothing.': 0, 'assumed': 0, '(probably': 0, 'rightly)': 0, \"company's\": 0, 'marketing': 0, 'team': 0, 'bunch': 0, 'idiots.': 0}\n",
      "a 12\n",
      "to 10\n",
      "the 9\n",
      "and 9\n",
      "press 8\n",
      "release 8\n",
      "that 7\n",
      "of 5\n",
      "your 4\n",
      "in 3\n",
      "firm 3\n",
      "you 3\n",
      "releases 3\n",
      "are 3\n",
      "all 3\n",
      "i 3\n",
      "is 2\n",
      "way 2\n",
      "if 2\n",
      "can 2\n",
      "about 2\n",
      "new 2\n",
      "prospects 2\n",
      "an 2\n",
      "article 2\n",
      "more 2\n",
      "most 2\n",
      "for 2\n",
      "simply 2\n",
      "6.0 2\n",
      "as 2\n",
      "important. 2\n",
      "was 2\n",
      "quickest 1\n",
      "easiest 1\n",
      "get 1\n",
      "free 1\n",
      "publicity. 1\n",
      "well 1\n",
      "written, 1\n",
      "result 1\n",
      "multiple 1\n",
      "published 1\n",
      "articles 1\n",
      "its 1\n",
      "products. 1\n",
      "mean 1\n",
      "contacting 1\n",
      "asking 1\n",
      "sell 1\n",
      "them. 1\n",
      "talk 1\n",
      "low-hanging 1\n",
      "fruit! 1\n",
      "what's 1\n",
      "more, 1\n",
      "cost 1\n",
      "effective. 1\n",
      "results 1\n",
      "(for 1\n",
      "instance) 1\n",
      "appears 1\n",
      "recommend 1\n",
      "or 1\n",
      "product, 1\n",
      "likely 1\n",
      "drive 1\n",
      "contact 1\n",
      "than 1\n",
      "comparable 1\n",
      "paid 1\n",
      "advertisement. 1\n",
      "however, 1\n",
      "never 1\n",
      "accomplish 1\n",
      "that. 1\n",
      "just 1\n",
      "spray 1\n",
      "pray. 1\n",
      "nobody 1\n",
      "reads 1\n",
      "them, 1\n",
      "least 1\n",
      "reporters 1\n",
      "editors 1\n",
      "whom 1\n",
      "they're 1\n",
      "intended. 1\n",
      "worst 1\n",
      "case, 1\n",
      "badly-written 1\n",
      "makes 1\n",
      "look 1\n",
      "clueless 1\n",
      "stupid. 1\n",
      "example, 1\n",
      "while 1\n",
      "back 1\n",
      "received 1\n",
      "containing 1\n",
      "following 1\n",
      "sentence: 1\n",
      "\"release 1\n",
      "doubles 1\n",
      "level 1\n",
      "functionality 1\n",
      "available, 1\n",
      "providing 1\n",
      "organizations 1\n",
      "sizes 1\n",
      "with 1\n",
      "fast-to-deploy, 1\n",
      "highly 1\n",
      "robust, 1\n",
      "easy-to-use 1\n",
      "solution 1\n",
      "better 1\n",
      "acquire, 1\n",
      "retain, 1\n",
      "serve 1\n",
      "customers.\" 1\n",
      "translation: 1\n",
      "\"the 1\n",
      "does 1\n",
      "stuff.\" 1\n",
      "why 1\n",
      "extra 1\n",
      "verbiage? 1\n",
      "explained 1\n",
      "post 1\n",
      "\"why 1\n",
      "marketers 1\n",
      "speak 1\n",
      "biz 1\n",
      "blab\", 1\n",
      "bs 1\n",
      "words 1\n",
      "try 1\n",
      "make 1\n",
      "something 1\n",
      "unimportant 1\n",
      "seem 1\n",
      "and, 1\n",
      "let's 1\n",
      "face 1\n",
      "it, 1\n",
      "product 1\n",
      "probably 1\n",
      "isn't 1\n",
      "reporter, 1\n",
      "my 1\n",
      "immediate 1\n",
      "response 1\n",
      "it's 1\n",
      "not 1\n",
      "important 1\n",
      "because 1\n",
      "it 1\n",
      "expended 1\n",
      "entire 1\n",
      "sentence 1\n",
      "saying 1\n",
      "absolutely 1\n",
      "nothing. 1\n",
      "assumed 1\n",
      "(probably 1\n",
      "rightly) 1\n",
      "company's 1\n",
      "marketing 1\n",
      "team 1\n",
      "bunch 1\n",
      "idiots. 1\n"
     ]
    }
   ],
   "source": [
    "from collections import defaultdict\n",
    "from collections import OrderedDict\n",
    "\n",
    "text = \"\"\"A press release is the quickest and easiest way to get free publicity. If well written, a press release can result in multiple published articles about your firm and its products. And that can mean new prospects contacting you asking you to sell to them. Talk about low-hanging fruit!\n",
    "What's more, press releases are cost effective. If the release results in an article that (for instance) appears to recommend your firm or your product, that article is more likely to drive prospects to contact you than a comparable paid advertisement.\n",
    "However, most press releases never accomplish that. Most press releases are just spray and pray. Nobody reads them, least of all the reporters and editors for whom they're intended. Worst case, a badly-written press release simply makes your firm look clueless and stupid.\n",
    "For example, a while back I received a press release containing the following sentence: \"Release 6.0 doubles the level of functionality available, providing organizations of all sizes with a fast-to-deploy, highly robust, and easy-to-use solution to better acquire, retain, and serve customers.\"\n",
    "Translation: \"The new release does more stuff.\" Why the extra verbiage? As I explained in the post \"Why Marketers Speak Biz Blab\", the BS words are simply a way to try to make something unimportant seem important. And, let's face it, a 6.0 release of a product probably isn't all that important.\n",
    "As a reporter, my immediate response to that press release was that it's not important because it expended an entire sentence saying absolutely nothing. And I assumed (probably rightly) that the company's marketing team was a bunch of idiots.\"\"\".lower().split()\n",
    "\n",
    "word_count = {}\n",
    "for word in text:\n",
    "    if word in word_count.keys():\n",
    "        word_count[word] += 1\n",
    "    else:\n",
    "        word_count[word] = 0\n",
    "print(word_count)\n",
    "\n",
    "word_count = defaultdict(object)     # Default dictionary를 생성\n",
    "word_count = defaultdict(lambda: 0)  # Default 값을 0으로 설정합\n",
    "\n",
    "for word in text:\n",
    "    word_count[word] += 1\n",
    "for i, v in OrderedDict(sorted(\n",
    "        word_count.items(), key=lambda t: t[1], reverse=True)).items():\n",
    "    print(i, v)"
   ]
  },
  {
   "cell_type": "markdown",
   "metadata": {},
   "source": [
    "### Counter\n",
    "- Sequence type의 data element들의 갯수를 dict 형태로 변환"
   ]
  },
  {
   "cell_type": "code",
   "execution_count": 70,
   "metadata": {},
   "outputs": [
    {
     "name": "stdout",
     "output_type": "stream",
     "text": [
      "Counter({'a': 3, 'l': 2, 'g': 1, 'h': 1, 'd': 1})\n",
      "Counter({'red': 4, 'blue': 2})\n",
      "['red', 'red', 'red', 'red', 'blue', 'blue']\n",
      "Counter({'dogs': 8, 'cats': 4})\n",
      "['cats', 'cats', 'cats', 'cats', 'dogs', 'dogs', 'dogs', 'dogs', 'dogs', 'dogs', 'dogs', 'dogs']\n",
      "Counter({'a': 3, 'b': 0, 'c': -3, 'd': -6})\n",
      "Counter({'a': 5, 'b': 4, 'c': 3, 'd': 2})\n",
      "Counter({'b': 2, 'a': 1})\n",
      "Counter({'a': 4, 'd': 4, 'c': 3, 'b': 2})\n"
     ]
    }
   ],
   "source": [
    "from collections import Counter\n",
    "\n",
    "c = Counter()                           # a new, empty counter\n",
    "c = Counter('gallahad')                 # a new counter from an iterable\n",
    "print(c)\n",
    "\n",
    "c = Counter({'red': 4, 'blue': 2})      # a new counter from a mapping\n",
    "print(c)\n",
    "print(list(c.elements()))\n",
    "\n",
    "c = Counter(cats=4, dogs=8)             # a new counter from keyword args\n",
    "print(c)\n",
    "print(list(c.elements()))\n",
    "\n",
    "c = Counter(a=4, b=2, c=0, d=-2)\n",
    "d = Counter(a=1, b=2, c=3, d=4)\n",
    "c.subtract(d)  # c- d\n",
    "print(c)\n",
    "\n",
    "c = Counter(a=4, b=2, c=0, d=-2)\n",
    "d = Counter(a=1, b=2, c=3, d=4)\n",
    "print(c + d)\n",
    "print(c & d)\n",
    "print(c | d)"
   ]
  },
  {
   "cell_type": "code",
   "execution_count": null,
   "metadata": {},
   "outputs": [],
   "source": []
  }
 ],
 "metadata": {
  "kernelspec": {
   "display_name": "Python 3",
   "language": "python",
   "name": "python3"
  },
  "language_info": {
   "codemirror_mode": {
    "name": "ipython",
    "version": 3
   },
   "file_extension": ".py",
   "mimetype": "text/x-python",
   "name": "python",
   "nbconvert_exporter": "python",
   "pygments_lexer": "ipython3",
   "version": "3.7.7"
  }
 },
 "nbformat": 4,
 "nbformat_minor": 4
}
