{
 "cells": [
  {
   "cell_type": "markdown",
   "metadata": {},
   "source": [
    "## Chapter 1 Assignment\n",
    "Codin' Basic linear algebra with python"
   ]
  },
  {
   "cell_type": "code",
   "execution_count": 29,
   "metadata": {},
   "outputs": [],
   "source": [
    "#Given sample matrix\n",
    "\n",
    "matrix_x = [[2,2],[2,2],[2,2]]\n",
    "matrix_y = [[2,5],[2,1]]\n",
    "matrix_z = [[2,4],[5,3]]\n",
    "matrix_w = [[2,5],[1,1],[2,2]]"
   ]
  },
  {
   "cell_type": "code",
   "execution_count": 27,
   "metadata": {},
   "outputs": [
    {
     "data": {
      "text/plain": [
       "True"
      ]
     },
     "execution_count": 27,
     "metadata": {},
     "output_type": "execute_result"
    }
   ],
   "source": [
    "def vector_size_check(*vector_variables):\n",
    "    return all(len(vector_variables[0])==x \n",
    "              for x in [len(vector) for vector in vector_variables[1:]])\n",
    "\n",
    "vector_size_check([1,2,3],[2,3,4],[5,6,7])"
   ]
  },
  {
   "cell_type": "code",
   "execution_count": 14,
   "metadata": {},
   "outputs": [
    {
     "name": "stdout",
     "output_type": "stream",
     "text": [
      "[2, 4]\n"
     ]
    }
   ],
   "source": [
    "def vector_addition(*vector_variables):\n",
    "    if vector_size_check(*vector_variables) == False:\n",
    "        raise ArithmeticError\n",
    "    return [sum(elements) for elements in zip(*vector_variables[1:])]\n",
    "\n",
    "print(vector_addition([1,3],[2,4]))\n",
    "print(vector_addition([1,3,4],[4],[6,7])) #ArithmeticError"
   ]
  },
  {
   "cell_type": "code",
   "execution_count": 16,
   "metadata": {},
   "outputs": [
    {
     "name": "stdout",
     "output_type": "stream",
     "text": [
      "[-13, -6]\n"
     ]
    }
   ],
   "source": [
    "def vector_subtraction(*vector_variables):\n",
    "    if vector_size_check(*vector_variables) == False:\n",
    "        raise ArithmeticError\n",
    "    return [elements[0]*2 - sum(elements) \n",
    "           for elements in zip(*vector_variables)] #2A -(A + B + C) = A - B - C\n",
    "\n",
    "print(vector_subtraction([1,5],[10,4],[4,7]))"
   ]
  },
  {
   "cell_type": "code",
   "execution_count": 4,
   "metadata": {},
   "outputs": [],
   "source": [
    "def scalar_vector_product(alpha, vector_variable):\n",
    "    return [alpha*element for element in vector_variable]\n",
    "\n",
    "print(scalar_vector_product(5,[1,2,3]))"
   ]
  },
  {
   "cell_type": "code",
   "execution_count": 23,
   "metadata": {},
   "outputs": [
    {
     "name": "stdout",
     "output_type": "stream",
     "text": [
      "False\n"
     ]
    }
   ],
   "source": [
    "def matrix_size_check(*matrix_variables):\n",
    "    return (all([len(set(len(matrix[0]) for matrix in matrix_variables)) == 1]) \n",
    "            and all([len(matrix_variables[0]) == len(matrix) for matrix in matrix_variables]))\n",
    "\n",
    "print(matrix_size_check(matrix_x, matrix_y, matrix_z))"
   ]
  },
  {
   "cell_type": "code",
   "execution_count": 24,
   "metadata": {},
   "outputs": [
    {
     "name": "stdout",
     "output_type": "stream",
     "text": [
      "[([2, 2], [2, 5]), ([2, 2], [2, 1])]\n",
      "False\n"
     ]
    }
   ],
   "source": [
    "def is_matrix_equal(*matrix_variables):\n",
    "    print([matrix for matrix in zip(*matrix_variables)])\n",
    "    return all([all([len(set(row)) == 1 for row in zip(*matrix)]) for matrix in zip(*matrix_variables)])\n",
    "\n",
    "print(is_matrix_equal(matrix_x, matrix_y))"
   ]
  },
  {
   "cell_type": "code",
   "execution_count": 25,
   "metadata": {},
   "outputs": [
    {
     "name": "stdout",
     "output_type": "stream",
     "text": [
      "[[4, 7], [4, 3]]\n"
     ]
    }
   ],
   "source": [
    "def matrix_addition(*matrix_variables):\n",
    "    if matrix_size_check(*matrix_variables) == False:\n",
    "        raise ArithmeticError\n",
    "    return [[sum(row) for row in zip(*matrix)]for matrix in zip(*matrix_variables)]\n",
    "\n",
    "print(matrix_addition(matrix_x, matrix_y))"
   ]
  },
  {
   "cell_type": "code",
   "execution_count": 8,
   "metadata": {},
   "outputs": [],
   "source": [
    "def matrix_subtraction(*matrix_variables):\n",
    "    if matrix_size_check(*matrix_variables) == False:\n",
    "        raise ArithmeticError\n",
    "    return [[row[0]*2 - sum(row) for row in  zip(*matrix)] for matrix in zip(*matrix_variables)]"
   ]
  },
  {
   "cell_type": "code",
   "execution_count": 30,
   "metadata": {},
   "outputs": [
    {
     "name": "stdout",
     "output_type": "stream",
     "text": [
      "[[2, 1, 2], [5, 1, 2]]\n"
     ]
    }
   ],
   "source": [
    "def matrix_transpose(matrix_variable):\n",
    "    return [[element for element in row] for row in zip(*matrix_variable)]\n",
    "\n",
    "print(matrix_transpose(matrix_w))"
   ]
  },
  {
   "cell_type": "code",
   "execution_count": 10,
   "metadata": {},
   "outputs": [],
   "source": [
    "def scalar_matrix_product(alpha, matrix_variable):\n",
    "    return [scalar_vector_product(alpha, row) for row in matrix_variable]"
   ]
  },
  {
   "cell_type": "code",
   "execution_count": 11,
   "metadata": {},
   "outputs": [],
   "source": [
    "def is_product_availability_matrix(matrix_a, matrix_b): \n",
    "    return len([column_vector for column_vector in zip(*matrix_a)]) == len(matrix_b)"
   ]
  },
  {
   "cell_type": "code",
   "execution_count": 28,
   "metadata": {},
   "outputs": [
    {
     "name": "stdout",
     "output_type": "stream",
     "text": [
      "[[29, 23], [9, 11]]\n"
     ]
    }
   ],
   "source": [
    "def matrix_product(matrix_a, matrix_b):\n",
    "    if is_product_availability_matrix(matrix_a, matrix_b) == False:\n",
    "        raise ArithmeticError\n",
    "    return [[sum(a*b for a,b in zip(row_a, column_b)) for column_b in zip(*matrix_b)]for row_a in matrix_a]\n",
    "\n",
    "print(matrix_product(matrix_y, matrix_z))"
   ]
  }
 ],
 "metadata": {
  "kernelspec": {
   "display_name": "Python 3",
   "language": "python",
   "name": "python3"
  },
  "language_info": {
   "codemirror_mode": {
    "name": "ipython",
    "version": 3
   },
   "file_extension": ".py",
   "mimetype": "text/x-python",
   "name": "python",
   "nbconvert_exporter": "python",
   "pygments_lexer": "ipython3",
   "version": "3.7.7"
  }
 },
 "nbformat": 4,
 "nbformat_minor": 4
}
