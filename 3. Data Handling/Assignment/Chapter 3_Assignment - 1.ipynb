{
 "cells": [
  {
   "cell_type": "code",
   "execution_count": 1,
   "metadata": {},
   "outputs": [],
   "source": [
    "import numpy as np"
   ]
  },
  {
   "cell_type": "code",
   "execution_count": 10,
   "metadata": {},
   "outputs": [],
   "source": [
    "def n_size_ndarray_creation(n, dtype=np.int):\n",
    "    return np.array(range(n**2), dtype = dtype).reshape(n,n)"
   ]
  },
  {
   "cell_type": "code",
   "execution_count": 11,
   "metadata": {},
   "outputs": [],
   "source": [
    "def zero_or_one_or_empty_ndarray(shape, type=0, dtype=np.int):\n",
    "    if type == 0:\n",
    "        return np.zeros(shape=shape, dtype=dtype)\n",
    "    if type == 1:\n",
    "        return np.ones(shape=shape, dtype=dtype)\n",
    "    if type == 99:\n",
    "        return np.empty(shape=shape, dtype=dtype)"
   ]
  },
  {
   "cell_type": "code",
   "execution_count": 13,
   "metadata": {},
   "outputs": [
    {
     "data": {
      "text/plain": [
       "array([1, 1, 1, ..., 1, 1, 1])"
      ]
     },
     "execution_count": 13,
     "metadata": {},
     "output_type": "execute_result"
    }
   ],
   "source": [
    "def change_shape_of_ndarray(X, n_row):\n",
    "    return X.flatten() if n_row == 1 else X.reshape(n_row, -1)\n",
    "\n",
    "X = zero_or_one_or_empty_ndarray((32,32),1)\n",
    "change_shape_of_ndarray(X,1)"
   ]
  },
  {
   "cell_type": "code",
   "execution_count": 5,
   "metadata": {},
   "outputs": [],
   "source": [
    "def concat_ndarray(X_1, X_2, axis):\n",
    "    try:\n",
    "        if X_1.ndim == 1:\n",
    "            X_1 = X_1.reshape(1,-1)\n",
    "        if X_2.ndim == 1:\n",
    "            X_2 = X_2.reshape(1,-1)\n",
    "        return np.concatenate((X_1,X_2), axis=axis)\n",
    "    except ValueError as e:\n",
    "        return False"
   ]
  },
  {
   "cell_type": "code",
   "execution_count": 14,
   "metadata": {},
   "outputs": [
    {
     "data": {
      "text/plain": [
       "array([[-1.593255  , -1.3035723 , -1.0138896 ],\n",
       "       [-0.7242068 , -0.4345241 , -0.14484136],\n",
       "       [ 0.14484136,  0.4345241 ,  0.7242068 ],\n",
       "       [ 1.0138896 ,  1.3035723 ,  1.593255  ]], dtype=float32)"
      ]
     },
     "execution_count": 14,
     "metadata": {},
     "output_type": "execute_result"
    }
   ],
   "source": [
    "def normalize_ndarray(X, axis=99, dtype=np.float32):\n",
    "    X = X.astype(np.float32)\n",
    "    n_row, n_column = X.shape\n",
    "    if axis == 99:\n",
    "        x_mean = np.mean(X)\n",
    "        x_std = np.std(X)\n",
    "        Z = (X - x_mean) / x_std\n",
    "    if axis == 0:\n",
    "        x_mean = np.mean(X,0).reshape(1,-1)\n",
    "        x_std = np.std(X,0).reshape(1,-1)\n",
    "        Z = (X - x_mean) / x_std\n",
    "    if axis == 1:\n",
    "        x_mean = np.mean(X,1).reshape(n_row, -1)\n",
    "        x_std = np.std(X, 1).reshape(n_row, -1)\n",
    "        Z = (X - x_mean) / x_std\n",
    "    return Z\n",
    "\n",
    "X = np.arange(12, dtype = np.float32).reshape(4,3)\n",
    "normalize_ndarray(X)"
   ]
  },
  {
   "cell_type": "code",
   "execution_count": 7,
   "metadata": {},
   "outputs": [],
   "source": [
    "def save_ndarray(X, filename=\"test.npy\"):\n",
    "    file_test = open(filename, \"wb\")\n",
    "    np.save(X, file_test)"
   ]
  },
  {
   "cell_type": "code",
   "execution_count": 17,
   "metadata": {},
   "outputs": [
    {
     "data": {
      "text/plain": [
       "(array([ 7,  8,  9, 10, 11, 12, 13, 14, 15, 16, 17, 18, 19, 20, 21, 22, 23,\n",
       "        24, 25, 26, 27, 28, 29, 30, 31], dtype=int64),)"
      ]
     },
     "execution_count": 17,
     "metadata": {},
     "output_type": "execute_result"
    }
   ],
   "source": [
    "def boolean_index(X, condition):\n",
    "    condition = eval(str(\"X\") + condition)\n",
    "    return np.where(condition)\n",
    "\n",
    "X = np.arange(32, dtype=np.float32)\n",
    "boolean_index(X, \"> 6\")"
   ]
  },
  {
   "cell_type": "code",
   "execution_count": 18,
   "metadata": {},
   "outputs": [
    {
     "data": {
      "text/plain": [
       "array([0.46899997, 0.48260222, 0.49234617, 0.40928834, 0.34367875])"
      ]
     },
     "execution_count": 18,
     "metadata": {},
     "output_type": "execute_result"
    }
   ],
   "source": [
    "def find_nearest_value(X, target_value):\n",
    "    return X[np.argmin(np.abs(X-target_value))]\n",
    "\n",
    "X = np.random.uniform(0,1,5)\n",
    "target_value = 0.3\n",
    "np.abs(X-target_value)"
   ]
  },
  {
   "cell_type": "code",
   "execution_count": 19,
   "metadata": {},
   "outputs": [
    {
     "data": {
      "text/plain": [
       "0.6436787531343203"
      ]
     },
     "execution_count": 19,
     "metadata": {},
     "output_type": "execute_result"
    }
   ],
   "source": [
    "find_nearest_value(X,target_value)"
   ]
  },
  {
   "cell_type": "code",
   "execution_count": 20,
   "metadata": {},
   "outputs": [
    {
     "data": {
      "text/plain": [
       "array([0.29705905, 0.29297722, 0.92512253])"
      ]
     },
     "execution_count": 20,
     "metadata": {},
     "output_type": "execute_result"
    }
   ],
   "source": [
    "def get_n_largest_values(X, n):\n",
    "    return X[np.argsort(X[::-1])[:n]]\n",
    "\n",
    "X = np.random.uniform(0,1,5)\n",
    "get_n_largest_values(X, 3)"
   ]
  }
 ],
 "metadata": {
  "kernelspec": {
   "display_name": "Python 3",
   "language": "python",
   "name": "python3"
  },
  "language_info": {
   "codemirror_mode": {
    "name": "ipython",
    "version": 3
   },
   "file_extension": ".py",
   "mimetype": "text/x-python",
   "name": "python",
   "nbconvert_exporter": "python",
   "pygments_lexer": "ipython3",
   "version": "3.7.7"
  }
 },
 "nbformat": 4,
 "nbformat_minor": 4
}
